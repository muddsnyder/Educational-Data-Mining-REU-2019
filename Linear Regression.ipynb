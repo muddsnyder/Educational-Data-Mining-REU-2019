{
 "cells": [
  {
   "cell_type": "code",
   "execution_count": 220,
   "metadata": {},
   "outputs": [],
   "source": [
    "import pandas as pd\n",
    "import math\n",
    "from sklearn.model_selection import train_test_split\n",
    "from sklearn.linear_model import LinearRegression\n",
    "from sklearn.model_selection import cross_val_score\n",
    "from sklearn.metrics import mean_squared_error\n",
    "from sklearn.metrics import accuracy_score\n",
    "from datetime import datetime"
   ]
  },
  {
   "cell_type": "code",
   "execution_count": 43,
   "metadata": {},
   "outputs": [],
   "source": [
    "# read in the csv data\n",
    "gradebook = pd.read_csv('C:/Users/noahh/Dropbox/p3reu/data/gradebooks/F17_CS112.csv')\n",
    "pytania_s = pd.read_csv('C:/Users/noahh/Dropbox/p3reu/data/pytania/F17_CS112s_results.csv', encoding = \"latin1\")\n",
    "zybook = pd.read_csv('C:/Users/noahh/Dropbox/p3reu/data/zyBook_112/GMUCS112Fall2017.csv')"
   ]
  },
  {
   "cell_type": "code",
   "execution_count": 49,
   "metadata": {},
   "outputs": [
    {
     "data": {
      "text/plain": [
       "214"
      ]
     },
     "execution_count": 49,
     "metadata": {},
     "output_type": "execute_result"
    }
   ],
   "source": [
    "# user ids for students in Snyder's section\n",
    "s_ids = pytania_s['username']\n",
    "# NOTE: there are 5 users in here with no entry in the gradebook! (maybe dropped the class early?)\n",
    "users = set(s_ids.unique()) \n",
    "len(users)"
   ]
  },
  {
   "cell_type": "code",
   "execution_count": 70,
   "metadata": {},
   "outputs": [],
   "source": [
    "df = gradebook.set_index('Username') # use unique ids as the index\n",
    "df.sort_index(inplace=True) # sort by user id"
   ]
  },
  {
   "cell_type": "code",
   "execution_count": 46,
   "metadata": {},
   "outputs": [],
   "source": [
    "gradebook_dict = df.to_dict(orient='index')"
   ]
  },
  {
   "cell_type": "code",
   "execution_count": 69,
   "metadata": {},
   "outputs": [],
   "source": [
    "gradebook_s_dict = {} # grades for all students who were in Snyder's section of CS 112, Fall 2017\n",
    "for user in gradebook_dict:\n",
    "    if user in users:\n",
    "        gradebook_s_dict[user] = gradebook_dict[user]"
   ]
  },
  {
   "cell_type": "code",
   "execution_count": 68,
   "metadata": {},
   "outputs": [
    {
     "data": {
      "text/html": [
       "<div>\n",
       "<style scoped>\n",
       "    .dataframe tbody tr th:only-of-type {\n",
       "        vertical-align: middle;\n",
       "    }\n",
       "\n",
       "    .dataframe tbody tr th {\n",
       "        vertical-align: top;\n",
       "    }\n",
       "\n",
       "    .dataframe thead th {\n",
       "        text-align: right;\n",
       "    }\n",
       "</style>\n",
       "<table border=\"1\" class=\"dataframe\">\n",
       "  <thead>\n",
       "    <tr style=\"text-align: right;\">\n",
       "      <th></th>\n",
       "      <th>LEC</th>\n",
       "      <th>LAB</th>\n",
       "      <th>LETTER</th>\n",
       "      <th>RAW</th>\n",
       "      <th>HC</th>\n",
       "      <th>FF</th>\n",
       "      <th>T1</th>\n",
       "      <th>T2</th>\n",
       "      <th>T3</th>\n",
       "      <th>AVG_LABS_2drop</th>\n",
       "      <th>...</th>\n",
       "      <th>L4T</th>\n",
       "      <th>L5E</th>\n",
       "      <th>L6Q</th>\n",
       "      <th>L7E</th>\n",
       "      <th>L8Q</th>\n",
       "      <th>L9E</th>\n",
       "      <th>L10E</th>\n",
       "      <th>L11E</th>\n",
       "      <th>L12T</th>\n",
       "      <th>L13E</th>\n",
       "    </tr>\n",
       "  </thead>\n",
       "  <tbody>\n",
       "    <tr>\n",
       "      <th>8</th>\n",
       "      <td>3</td>\n",
       "      <td>228</td>\n",
       "      <td>A+</td>\n",
       "      <td>99.1</td>\n",
       "      <td>0</td>\n",
       "      <td>0</td>\n",
       "      <td>90.5</td>\n",
       "      <td>95.5</td>\n",
       "      <td>89.0</td>\n",
       "      <td>100.0</td>\n",
       "      <td>...</td>\n",
       "      <td>100.0</td>\n",
       "      <td>100.0</td>\n",
       "      <td>80.0</td>\n",
       "      <td>100</td>\n",
       "      <td>75</td>\n",
       "      <td>100</td>\n",
       "      <td>100</td>\n",
       "      <td>100</td>\n",
       "      <td>100</td>\n",
       "      <td>100</td>\n",
       "    </tr>\n",
       "    <tr>\n",
       "      <th>35</th>\n",
       "      <td>3</td>\n",
       "      <td>211</td>\n",
       "      <td>F</td>\n",
       "      <td>34.9</td>\n",
       "      <td>0</td>\n",
       "      <td>0</td>\n",
       "      <td>61.0</td>\n",
       "      <td>34.0</td>\n",
       "      <td>0.0</td>\n",
       "      <td>55.4</td>\n",
       "      <td>...</td>\n",
       "      <td>100.0</td>\n",
       "      <td>0.0</td>\n",
       "      <td>30.0</td>\n",
       "      <td>64</td>\n",
       "      <td>60</td>\n",
       "      <td>0</td>\n",
       "      <td>0</td>\n",
       "      <td>0</td>\n",
       "      <td>0</td>\n",
       "      <td>0</td>\n",
       "    </tr>\n",
       "    <tr>\n",
       "      <th>56</th>\n",
       "      <td>3</td>\n",
       "      <td>228</td>\n",
       "      <td>A</td>\n",
       "      <td>93.0</td>\n",
       "      <td>0</td>\n",
       "      <td>0</td>\n",
       "      <td>93.0</td>\n",
       "      <td>82.0</td>\n",
       "      <td>82.0</td>\n",
       "      <td>99.6</td>\n",
       "      <td>...</td>\n",
       "      <td>100.0</td>\n",
       "      <td>100.0</td>\n",
       "      <td>75.0</td>\n",
       "      <td>96</td>\n",
       "      <td>95</td>\n",
       "      <td>100</td>\n",
       "      <td>100</td>\n",
       "      <td>80</td>\n",
       "      <td>100</td>\n",
       "      <td>100</td>\n",
       "    </tr>\n",
       "    <tr>\n",
       "      <th>61</th>\n",
       "      <td>3</td>\n",
       "      <td>224</td>\n",
       "      <td>A</td>\n",
       "      <td>94.6</td>\n",
       "      <td>0</td>\n",
       "      <td>0</td>\n",
       "      <td>88.0</td>\n",
       "      <td>91.0</td>\n",
       "      <td>91.5</td>\n",
       "      <td>99.1</td>\n",
       "      <td>...</td>\n",
       "      <td>100.0</td>\n",
       "      <td>100.0</td>\n",
       "      <td>75.0</td>\n",
       "      <td>96</td>\n",
       "      <td>95</td>\n",
       "      <td>100</td>\n",
       "      <td>100</td>\n",
       "      <td>0</td>\n",
       "      <td>0</td>\n",
       "      <td>100</td>\n",
       "    </tr>\n",
       "    <tr>\n",
       "      <th>70</th>\n",
       "      <td>3</td>\n",
       "      <td>213</td>\n",
       "      <td>A+</td>\n",
       "      <td>100.0</td>\n",
       "      <td>0</td>\n",
       "      <td>0</td>\n",
       "      <td>92.0</td>\n",
       "      <td>92.0</td>\n",
       "      <td>92.0</td>\n",
       "      <td>100.0</td>\n",
       "      <td>...</td>\n",
       "      <td>100.0</td>\n",
       "      <td>100.0</td>\n",
       "      <td>90.0</td>\n",
       "      <td>0</td>\n",
       "      <td>100</td>\n",
       "      <td>100</td>\n",
       "      <td>100</td>\n",
       "      <td>100</td>\n",
       "      <td>100</td>\n",
       "      <td>100</td>\n",
       "    </tr>\n",
       "  </tbody>\n",
       "</table>\n",
       "<p>5 rows × 39 columns</p>\n",
       "</div>"
      ],
      "text/plain": [
       "    LEC  LAB LETTER    RAW  HC  FF    T1    T2    T3  AVG_LABS_2drop  ...  \\\n",
       "8     3  228     A+   99.1   0   0  90.5  95.5  89.0           100.0  ...   \n",
       "35    3  211      F   34.9   0   0  61.0  34.0   0.0            55.4  ...   \n",
       "56    3  228      A   93.0   0   0  93.0  82.0  82.0            99.6  ...   \n",
       "61    3  224      A   94.6   0   0  88.0  91.0  91.5            99.1  ...   \n",
       "70    3  213     A+  100.0   0   0  92.0  92.0  92.0           100.0  ...   \n",
       "\n",
       "      L4T    L5E   L6Q  L7E  L8Q  L9E  L10E  L11E  L12T  L13E  \n",
       "8   100.0  100.0  80.0  100   75  100   100   100   100   100  \n",
       "35  100.0    0.0  30.0   64   60    0     0     0     0     0  \n",
       "56  100.0  100.0  75.0   96   95  100   100    80   100   100  \n",
       "61  100.0  100.0  75.0   96   95  100   100     0     0   100  \n",
       "70  100.0  100.0  90.0    0  100  100   100   100   100   100  \n",
       "\n",
       "[5 rows x 39 columns]"
      ]
     },
     "execution_count": 68,
     "metadata": {},
     "output_type": "execute_result"
    }
   ],
   "source": [
    "back_to_df = pd.DataFrame.from_dict(gradebook_s_dict, orient='index')\n",
    "back_to_df.head()"
   ]
  },
  {
   "cell_type": "code",
   "execution_count": 185,
   "metadata": {},
   "outputs": [],
   "source": [
    "grades = back_to_df\n",
    "X = grades[['T1','L1E','L2E','L3E','L4T','L5E','L6Q','P1','P2','P3']] # every lab and project up to test 1\n",
    "y = grades['RAW']\n",
    "X_train, X_test, y_train, y_test = train_test_split(X,y)"
   ]
  },
  {
   "cell_type": "code",
   "execution_count": 186,
   "metadata": {},
   "outputs": [
    {
     "data": {
      "text/plain": [
       "10.804977421743157"
      ]
     },
     "execution_count": 186,
     "metadata": {},
     "output_type": "execute_result"
    }
   ],
   "source": [
    "classifier = LinearRegression()\n",
    "classifier.fit(X_train,y_train)\n",
    "prediction = classifier.predict(X_test)\n",
    "math.sqrt(mean_squared_error(y_test, prediction))"
   ]
  },
  {
   "cell_type": "code",
   "execution_count": 200,
   "metadata": {},
   "outputs": [],
   "source": [
    "def letter_grade(raw_score, precise=False):\n",
    "    letter = ''\n",
    "    if raw_score >= 98:\n",
    "        letter = 'A+'\n",
    "    elif raw_score >= 92:\n",
    "        letter = 'A'\n",
    "    elif raw_score >= 90:\n",
    "        letter = 'A-'\n",
    "    elif raw_score >= 88:\n",
    "        letter = 'B+'\n",
    "    elif raw_score >= 82:\n",
    "        letter = 'B'\n",
    "    elif raw_score >= 80:\n",
    "        letter = 'B-'\n",
    "    elif raw_score >= 78:\n",
    "        letter = 'C+'\n",
    "    elif raw_score >= 72:\n",
    "        letter = 'C'\n",
    "    elif raw_score >= 70:\n",
    "        letter = 'C-'\n",
    "    elif raw_score >= 60:\n",
    "        letter = 'D'\n",
    "    else:\n",
    "        letter = 'F'\n",
    "    \n",
    "    if precise:\n",
    "        return letter\n",
    "    else:\n",
    "        if letter in ['A+','A','A-']:\n",
    "            return 'A'\n",
    "        elif letter in ['B+','B','B-']:\n",
    "            return 'B'\n",
    "        elif letter in ['C+','C','C-']:\n",
    "            return 'C'\n",
    "        else:\n",
    "            return letter"
   ]
  },
  {
   "cell_type": "code",
   "execution_count": 201,
   "metadata": {},
   "outputs": [
    {
     "data": {
      "text/plain": [
       "0.6037735849056604"
      ]
     },
     "execution_count": 201,
     "metadata": {},
     "output_type": "execute_result"
    }
   ],
   "source": [
    "letter_predictions = []\n",
    "for score in prediction:\n",
    "    letter = letter_grade(score)\n",
    "    letter_predictions.append(letter)\n",
    "\n",
    "actual_letters = []\n",
    "for score in y_test:\n",
    "    letter = letter_grade(score)\n",
    "    actual_letters.append(letter)\n",
    "    \n",
    "accuracy_score(actual_letters, letter_predictions)"
   ]
  },
  {
   "cell_type": "code",
   "execution_count": 229,
   "metadata": {},
   "outputs": [
    {
     "name": "stdout",
     "output_type": "stream",
     "text": [
      "2018-08-22 14:13:04+00:00\n"
     ]
    },
    {
     "data": {
      "text/plain": [
       "datetime.datetime(2018, 8, 22, 14, 13, 4, tzinfo=datetime.timezone.utc)"
      ]
     },
     "execution_count": 229,
     "metadata": {},
     "output_type": "execute_result"
    }
   ],
   "source": [
    "# converting timestamp strings into datetime objects that can be compared more easily\n",
    "timestamps = pytania_s['timestamp']\n",
    "example = list(timestamps)[0]\n",
    "print(example)\n",
    "datetime.strptime(example,'%Y-%m-%d %H:%M:%S%z')"
   ]
  },
  {
   "cell_type": "code",
   "execution_count": null,
   "metadata": {},
   "outputs": [],
   "source": []
  }
 ],
 "metadata": {
  "kernelspec": {
   "display_name": "Python 3",
   "language": "python",
   "name": "python3"
  },
  "language_info": {
   "codemirror_mode": {
    "name": "ipython",
    "version": 3
   },
   "file_extension": ".py",
   "mimetype": "text/x-python",
   "name": "python",
   "nbconvert_exporter": "python",
   "pygments_lexer": "ipython3",
   "version": "3.7.3"
  }
 },
 "nbformat": 4,
 "nbformat_minor": 2
}
