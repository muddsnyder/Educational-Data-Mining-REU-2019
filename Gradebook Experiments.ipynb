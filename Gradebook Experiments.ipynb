{
 "cells": [
  {
   "cell_type": "code",
   "execution_count": 1,
   "metadata": {},
   "outputs": [],
   "source": [
    "import pandas as pd\n",
    "import numpy as np\n",
    "import matplotlib.pyplot as plt"
   ]
  },
  {
   "cell_type": "code",
   "execution_count": 2,
   "metadata": {},
   "outputs": [],
   "source": [
    "f17_gradebook = pd.read_csv('C:/Users/noahh/Dropbox/p3reu/data/gradebooks/F17_CS112.csv')\n",
    "f18_gradebook = pd.read_csv('C:/Users/noahh/Dropbox/p3reu/data/gradebooks/F18_CS112.csv')\n",
    "combined_gradebook = pd.concat([f17_gradebook, f18_gradebook], sort=False, ignore_index=True)\n",
    "grades = combined_gradebook\n",
    "labels = combined_gradebook.columns.values.tolist()"
   ]
  },
  {
   "cell_type": "code",
   "execution_count": 3,
   "metadata": {},
   "outputs": [
    {
     "data": {
      "text/html": [
       "<div>\n",
       "<style scoped>\n",
       "    .dataframe tbody tr th:only-of-type {\n",
       "        vertical-align: middle;\n",
       "    }\n",
       "\n",
       "    .dataframe tbody tr th {\n",
       "        vertical-align: top;\n",
       "    }\n",
       "\n",
       "    .dataframe thead th {\n",
       "        text-align: right;\n",
       "    }\n",
       "</style>\n",
       "<table border=\"1\" class=\"dataframe\">\n",
       "  <thead>\n",
       "    <tr style=\"text-align: right;\">\n",
       "      <th></th>\n",
       "      <th>Username</th>\n",
       "      <th>LEC</th>\n",
       "      <th>LAB</th>\n",
       "      <th>LETTER</th>\n",
       "      <th>RAW</th>\n",
       "      <th>HC</th>\n",
       "      <th>FF</th>\n",
       "      <th>T1</th>\n",
       "      <th>T2</th>\n",
       "      <th>T3</th>\n",
       "      <th>...</th>\n",
       "      <th>L6Q</th>\n",
       "      <th>L7E</th>\n",
       "      <th>L8Q</th>\n",
       "      <th>L9E</th>\n",
       "      <th>L10E</th>\n",
       "      <th>L11E</th>\n",
       "      <th>L12T</th>\n",
       "      <th>L13E</th>\n",
       "      <th>ZY</th>\n",
       "      <th>L5E5</th>\n",
       "    </tr>\n",
       "  </thead>\n",
       "  <tbody>\n",
       "    <tr>\n",
       "      <th>0</th>\n",
       "      <td>2560</td>\n",
       "      <td>3</td>\n",
       "      <td>226.0</td>\n",
       "      <td>B</td>\n",
       "      <td>82.7</td>\n",
       "      <td>0</td>\n",
       "      <td>1</td>\n",
       "      <td>67.0</td>\n",
       "      <td>58.5</td>\n",
       "      <td>54.5</td>\n",
       "      <td>...</td>\n",
       "      <td>60.0</td>\n",
       "      <td>100</td>\n",
       "      <td>50</td>\n",
       "      <td>100</td>\n",
       "      <td>100</td>\n",
       "      <td>100</td>\n",
       "      <td>20</td>\n",
       "      <td>100</td>\n",
       "      <td>NaN</td>\n",
       "      <td>NaN</td>\n",
       "    </tr>\n",
       "    <tr>\n",
       "      <th>1</th>\n",
       "      <td>2076</td>\n",
       "      <td>3</td>\n",
       "      <td>212.0</td>\n",
       "      <td>C+</td>\n",
       "      <td>78.9</td>\n",
       "      <td>0</td>\n",
       "      <td>0</td>\n",
       "      <td>64.5</td>\n",
       "      <td>71.0</td>\n",
       "      <td>65.5</td>\n",
       "      <td>...</td>\n",
       "      <td>35.0</td>\n",
       "      <td>100</td>\n",
       "      <td>70</td>\n",
       "      <td>100</td>\n",
       "      <td>0</td>\n",
       "      <td>80</td>\n",
       "      <td>28</td>\n",
       "      <td>0</td>\n",
       "      <td>NaN</td>\n",
       "      <td>NaN</td>\n",
       "    </tr>\n",
       "    <tr>\n",
       "      <th>2</th>\n",
       "      <td>1754</td>\n",
       "      <td>3</td>\n",
       "      <td>219.0</td>\n",
       "      <td>A</td>\n",
       "      <td>94.3</td>\n",
       "      <td>0</td>\n",
       "      <td>0</td>\n",
       "      <td>82.5</td>\n",
       "      <td>69.5</td>\n",
       "      <td>86.0</td>\n",
       "      <td>...</td>\n",
       "      <td>50.0</td>\n",
       "      <td>100</td>\n",
       "      <td>90</td>\n",
       "      <td>100</td>\n",
       "      <td>48</td>\n",
       "      <td>60</td>\n",
       "      <td>100</td>\n",
       "      <td>100</td>\n",
       "      <td>NaN</td>\n",
       "      <td>NaN</td>\n",
       "    </tr>\n",
       "    <tr>\n",
       "      <th>3</th>\n",
       "      <td>144</td>\n",
       "      <td>3</td>\n",
       "      <td>213.0</td>\n",
       "      <td>A-</td>\n",
       "      <td>90.3</td>\n",
       "      <td>0</td>\n",
       "      <td>0</td>\n",
       "      <td>82.0</td>\n",
       "      <td>78.5</td>\n",
       "      <td>75.0</td>\n",
       "      <td>...</td>\n",
       "      <td>60.0</td>\n",
       "      <td>100</td>\n",
       "      <td>50</td>\n",
       "      <td>100</td>\n",
       "      <td>100</td>\n",
       "      <td>84</td>\n",
       "      <td>56</td>\n",
       "      <td>100</td>\n",
       "      <td>NaN</td>\n",
       "      <td>NaN</td>\n",
       "    </tr>\n",
       "    <tr>\n",
       "      <th>4</th>\n",
       "      <td>627</td>\n",
       "      <td>3</td>\n",
       "      <td>224.0</td>\n",
       "      <td>A-</td>\n",
       "      <td>91.8</td>\n",
       "      <td>0</td>\n",
       "      <td>0</td>\n",
       "      <td>76.5</td>\n",
       "      <td>65.0</td>\n",
       "      <td>80.5</td>\n",
       "      <td>...</td>\n",
       "      <td>40.0</td>\n",
       "      <td>100</td>\n",
       "      <td>55</td>\n",
       "      <td>80</td>\n",
       "      <td>100</td>\n",
       "      <td>100</td>\n",
       "      <td>0</td>\n",
       "      <td>100</td>\n",
       "      <td>NaN</td>\n",
       "      <td>NaN</td>\n",
       "    </tr>\n",
       "  </tbody>\n",
       "</table>\n",
       "<p>5 rows × 42 columns</p>\n",
       "</div>"
      ],
      "text/plain": [
       "   Username LEC    LAB LETTER   RAW  HC  FF    T1    T2    T3  ...   L6Q  L7E  \\\n",
       "0      2560   3  226.0      B  82.7   0   1  67.0  58.5  54.5  ...  60.0  100   \n",
       "1      2076   3  212.0     C+  78.9   0   0  64.5  71.0  65.5  ...  35.0  100   \n",
       "2      1754   3  219.0      A  94.3   0   0  82.5  69.5  86.0  ...  50.0  100   \n",
       "3       144   3  213.0     A-  90.3   0   0  82.0  78.5  75.0  ...  60.0  100   \n",
       "4       627   3  224.0     A-  91.8   0   0  76.5  65.0  80.5  ...  40.0  100   \n",
       "\n",
       "   L8Q  L9E  L10E  L11E  L12T  L13E  ZY  L5E5  \n",
       "0   50  100   100   100    20   100 NaN   NaN  \n",
       "1   70  100     0    80    28     0 NaN   NaN  \n",
       "2   90  100    48    60   100   100 NaN   NaN  \n",
       "3   50  100   100    84    56   100 NaN   NaN  \n",
       "4   55   80   100   100     0   100 NaN   NaN  \n",
       "\n",
       "[5 rows x 42 columns]"
      ]
     },
     "execution_count": 3,
     "metadata": {},
     "output_type": "execute_result"
    }
   ],
   "source": [
    "grades.describe()\n",
    "grades.head()"
   ]
  },
  {
   "cell_type": "code",
   "execution_count": 4,
   "metadata": {},
   "outputs": [],
   "source": [
    "raw_scores = grades['RAW']\n",
    "letter_grades = grades['LETTER']"
   ]
  },
  {
   "cell_type": "code",
   "execution_count": 5,
   "metadata": {},
   "outputs": [],
   "source": [
    "sorted_scores = sorted(list(raw_scores))\n",
    "grade_counts = letter_grades.value_counts().sort_index()\n",
    "grade_order = ['A+','A','A-','B+','B','B-','C+','C','C-','D','F'][::-1]\n",
    "grade_counts = grade_counts.reindex(index = grade_order)"
   ]
  },
  {
   "cell_type": "code",
   "execution_count": 6,
   "metadata": {},
   "outputs": [
    {
     "data": {
      "text/plain": [
       "[<matplotlib.lines.Line2D at 0x5d2e070>]"
      ]
     },
     "execution_count": 6,
     "metadata": {},
     "output_type": "execute_result"
    },
    {
     "data": {
      "image/png": "[encoded data removed]",
      "text/plain": [
       "<Figure size 720x360 with 2 Axes>"
      ]
     },
     "metadata": {
      "needs_background": "light"
     },
     "output_type": "display_data"
    }
   ],
   "source": [
    "f, (ax1,ax2) = plt.subplots(1,2,figsize=(10,5))\n",
    "ax1.plot(sorted_scores)\n",
    "ax2.plot(grade_counts)"
   ]
  },
  {
   "cell_type": "code",
   "execution_count": 7,
   "metadata": {},
   "outputs": [
    {
     "data": {
      "text/plain": [
       "'13.03% failed'"
      ]
     },
     "execution_count": 7,
     "metadata": {},
     "output_type": "execute_result"
    }
   ],
   "source": [
    "num_failures = grade_counts[0]\n",
    "total_count = sum(grade_counts)\n",
    "percent_failures = (num_failures/total_count)*100\n",
    "\"{:.4}% failed\".format(percent_failures)"
   ]
  },
  {
   "cell_type": "code",
   "execution_count": 20,
   "metadata": {},
   "outputs": [],
   "source": [
    "from sklearn.linear_model import LinearRegression\n",
    "from sklearn.model_selection import train_test_split\n",
    "from sklearn.model_selection import cross_val_score"
   ]
  },
  {
   "cell_type": "code",
   "execution_count": 17,
   "metadata": {},
   "outputs": [],
   "source": [
    "X = grades[['T1','T2']]\n",
    "y = grades['T3']\n",
    "X_train, X_test, y_train, y_test = train_test_split(X,y)"
   ]
  },
  {
   "cell_type": "code",
   "execution_count": 18,
   "metadata": {},
   "outputs": [
    {
     "data": {
      "text/plain": [
       "LinearRegression(copy_X=True, fit_intercept=True, n_jobs=None, normalize=False)"
      ]
     },
     "execution_count": 18,
     "metadata": {},
     "output_type": "execute_result"
    }
   ],
   "source": [
    "classifier = LinearRegression()\n",
    "classifier.fit(X_train,y_train)"
   ]
  },
  {
   "cell_type": "code",
   "execution_count": 22,
   "metadata": {},
   "outputs": [],
   "source": [
    "# classifier.predict(X_test)\n",
    "scores = cross_val_score(classifier, X_test, y_test, cv=5)"
   ]
  },
  {
   "cell_type": "code",
   "execution_count": 23,
   "metadata": {},
   "outputs": [
    {
     "name": "stdout",
     "output_type": "stream",
     "text": [
      "Accuracy: 0.62 (+/- 0.21)\n"
     ]
    }
   ],
   "source": [
    "print(\"Accuracy: %0.2f (+/- %0.2f)\" % (scores.mean(), scores.std() * 2))"
   ]
  },
  {
   "cell_type": "code",
   "execution_count": null,
   "metadata": {},
   "outputs": [],
   "source": []
  }
 ],
 "metadata": {
  "kernelspec": {
   "display_name": "Python 3",
   "language": "python",
   "name": "python3"
  },
  "language_info": {
   "codemirror_mode": {
    "name": "ipython",
    "version": 3
   },
   "file_extension": ".py",
   "mimetype": "text/x-python",
   "name": "python",
   "nbconvert_exporter": "python",
   "pygments_lexer": "ipython3",
   "version": "3.7.3"
  }
 },
 "nbformat": 4,
 "nbformat_minor": 2
}
